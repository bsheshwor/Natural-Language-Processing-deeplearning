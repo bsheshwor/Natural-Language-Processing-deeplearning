{
 "cells": [
  {
   "cell_type": "markdown",
   "id": "4fe13a7b",
   "metadata": {},
   "source": [
    "Bag of Words (BoW)"
   ]
  },
  {
   "cell_type": "code",
   "execution_count": 5,
   "id": "ea7b156b",
   "metadata": {},
   "outputs": [],
   "source": [
    "import re\n",
    "from nltk.tokenize import word_tokenize\n",
    "from nltk.corpus import stopwords\n",
    "from nltk.stem import PorterStemmer\n",
    "from nltk.stem import WordNetLemmatizer"
   ]
  },
  {
   "cell_type": "code",
   "execution_count": 14,
   "id": "2d2755ed",
   "metadata": {},
   "outputs": [
    {
     "name": "stdout",
     "output_type": "stream",
     "text": [
      "['Little house on the Prairie', 'Marie has a little lab.', 'The silence of the Lambs.', 'Twinkle Twinkle little star']\n"
     ]
    }
   ],
   "source": [
    "text = [\"Little house on the Prairie\",\n",
    "       \"Marie has a little lab.\",\n",
    "       \"The silence of the Lambs.\",\n",
    "        \"Twinkle Twinkle little star\",\n",
    "       ]\n",
    "print(text\n",
    "     )"
   ]
  },
  {
   "cell_type": "code",
   "execution_count": 15,
   "id": "9d9a1fab",
   "metadata": {},
   "outputs": [],
   "source": [
    "def preprocess_text(list_of_texts):\n",
    "    text = list_of_texts.lower()\n",
    "    text = re.sub(r\"[^a-zA-Z0-9]\",\" \", text)\n",
    "    #Converting to token\n",
    "    tokens = word_tokenize(text)\n",
    "    tokens = [i_token for i_token in tokens if i_token not in stopwords.words('english')]\n",
    "    \n",
    "    stemmed = [PorterStemmer().stem(i_token) for i_token in tokens]\n",
    "    lemmtized = [WordNetLemmatizer().lemmatize(i_token,pos=\"n\") for i_token in tokens]\n",
    "    lemmtized = [WordNetLemmatizer().lemmatize(i_token,pos=\"v\") for i_token in lemmtized]\n",
    "    return lemmtized    \n"
   ]
  },
  {
   "cell_type": "code",
   "execution_count": 16,
   "id": "eb71e8ed",
   "metadata": {},
   "outputs": [
    {
     "data": {
      "text/plain": [
       "['little',\n",
       " 'house',\n",
       " 'prairie',\n",
       " 'marie',\n",
       " 'little',\n",
       " 'lab',\n",
       " 'silence',\n",
       " 'lamb',\n",
       " 'twinkle',\n",
       " 'twinkle',\n",
       " 'little',\n",
       " 'star']"
      ]
     },
     "execution_count": 16,
     "metadata": {},
     "output_type": "execute_result"
    }
   ],
   "source": [
    "text = \" \".join(text)\n",
    "preprocess_text(text)"
   ]
  },
  {
   "cell_type": "code",
   "execution_count": null,
   "id": "e6aa8309",
   "metadata": {},
   "outputs": [],
   "source": []
  }
 ],
 "metadata": {
  "kernelspec": {
   "display_name": "Python 3 (ipykernel)",
   "language": "python",
   "name": "python3"
  },
  "language_info": {
   "codemirror_mode": {
    "name": "ipython",
    "version": 3
   },
   "file_extension": ".py",
   "mimetype": "text/x-python",
   "name": "python",
   "nbconvert_exporter": "python",
   "pygments_lexer": "ipython3",
   "version": "3.9.13"
  }
 },
 "nbformat": 4,
 "nbformat_minor": 5
}
