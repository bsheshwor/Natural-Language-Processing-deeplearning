{
 "cells": [
  {
   "cell_type": "code",
   "execution_count": 1,
   "id": "1750001d",
   "metadata": {},
   "outputs": [],
   "source": [
    "import re\n",
    "import nltk\n",
    "from collections import Counter\n",
    "import numpy as np\n",
    "import pandas as pd\n",
    "import re\n",
    "from nltk.tokenize import word_tokenize"
   ]
  },
  {
   "cell_type": "code",
   "execution_count": 2,
   "id": "52ffbec4",
   "metadata": {},
   "outputs": [],
   "source": [
    "text = \"As i was waiting, a man came out of a side room, and at a glance i was sure he must be long John.\""
   ]
  },
  {
   "cell_type": "code",
   "execution_count": 3,
   "id": "59b08e5f",
   "metadata": {},
   "outputs": [
    {
     "name": "stdout",
     "output_type": "stream",
     "text": [
      "['as', 'i', 'was', 'waiting,', 'a', 'man', 'came', 'out', 'of', 'a', 'side', 'room,', 'and', 'at', 'a', 'glance', 'i', 'was', 'sure', 'he', 'must', 'be', 'long', 'john.']\n"
     ]
    }
   ],
   "source": [
    "text = text.lower()\n",
    "\n",
    "text = re.sub(r\"a-zA-Z0-9\",\" \",text)\n",
    "\n",
    "text = text.split()\n",
    "print(text)"
   ]
  },
  {
   "cell_type": "code",
   "execution_count": 4,
   "id": "1f258eec",
   "metadata": {},
   "outputs": [
    {
     "name": "stdout",
     "output_type": "stream",
     "text": [
      "showing info https://raw.githubusercontent.com/nltk/nltk_data/gh-pages/index.xml\n"
     ]
    },
    {
     "data": {
      "text/plain": [
       "True"
      ]
     },
     "execution_count": 4,
     "metadata": {},
     "output_type": "execute_result"
    }
   ],
   "source": [
    "nltk.download()"
   ]
  },
  {
   "cell_type": "code",
   "execution_count": 5,
   "id": "ab005f33",
   "metadata": {},
   "outputs": [
    {
     "data": {
      "text/plain": [
       "[('as', 'IN'),\n",
       " ('i', 'NN'),\n",
       " ('was', 'VBD'),\n",
       " ('waiting,', 'WRB'),\n",
       " ('a', 'DT'),\n",
       " ('man', 'NN'),\n",
       " ('came', 'VBD'),\n",
       " ('out', 'IN'),\n",
       " ('of', 'IN'),\n",
       " ('a', 'DT'),\n",
       " ('side', 'NN'),\n",
       " ('room,', 'NN'),\n",
       " ('and', 'CC'),\n",
       " ('at', 'IN'),\n",
       " ('a', 'DT'),\n",
       " ('glance', 'NN'),\n",
       " ('i', 'NN'),\n",
       " ('was', 'VBD'),\n",
       " ('sure', 'JJ'),\n",
       " ('he', 'PRP'),\n",
       " ('must', 'MD'),\n",
       " ('be', 'VB'),\n",
       " ('long', 'JJ'),\n",
       " ('john.', 'NN')]"
      ]
     },
     "execution_count": 5,
     "metadata": {},
     "output_type": "execute_result"
    }
   ],
   "source": [
    "nltk.pos_tag(text)"
   ]
  },
  {
   "cell_type": "markdown",
   "id": "c4194d8f",
   "metadata": {},
   "source": [
    "Lookup Table"
   ]
  },
  {
   "cell_type": "code",
   "execution_count": 6,
   "id": "79994535",
   "metadata": {},
   "outputs": [
    {
     "name": "stdout",
     "output_type": "stream",
     "text": [
      "['Bishesh saw Jane.', 'Jane saw Bishesh.']\n",
      "['noun verb noun', 'noun verb noun']\n"
     ]
    }
   ],
   "source": [
    "text = ['Bishesh saw Jane.',\n",
    "       'Jane saw Bishesh.']\n",
    "print(text)\n",
    "\n",
    "labels = [\"noun verb noun\",\n",
    "          \"noun verb noun\"]\n",
    "\n",
    "print(labels)\n"
   ]
  },
  {
   "cell_type": "code",
   "execution_count": 7,
   "id": "683c4385",
   "metadata": {},
   "outputs": [
    {
     "name": "stdout",
     "output_type": "stream",
     "text": [
      "Tokens: \n",
      " ['bishesh', 'saw', 'jane', 'jane', 'saw', 'bishesh']\n",
      "Labels: \n",
      " ['noun', 'verb', 'noun', 'noun', 'verb', 'noun']\n"
     ]
    }
   ],
   "source": [
    "#Preprocessing\n",
    "def preprocess(text_list, labels):\n",
    "    #convert the list of strings into one string\n",
    "    text = \" \".join(text_list)\n",
    "    #lowercase the text\n",
    "    text = text.lower()\n",
    "    #remove punctuation\n",
    "    text = re.sub(r\"[^a-zA-Z0-9]\",\" \",text)\n",
    "    #Tokenize\n",
    "    tokens = word_tokenize(text)\n",
    "    \n",
    "    labels = \" \".join(labels)\n",
    "    labels = labels.lower()\n",
    "    labels = re.sub(r'[^a-zA-Z0-9]',\" \",labels)\n",
    "    labels = word_tokenize(labels)\n",
    "    \n",
    "    return tokens, labels\n",
    "\n",
    "tokens, labels = preprocess(text,labels)\n",
    "print(\"Tokens: \\n\", tokens)\n",
    "print(\"Labels: \\n\", labels)"
   ]
  },
  {
   "cell_type": "code",
   "execution_count": 8,
   "id": "0307a5a0",
   "metadata": {},
   "outputs": [
    {
     "data": {
      "text/plain": [
       "Counter({('bishesh', 'noun'): 2, ('saw', 'verb'): 2, ('jane', 'noun'): 2})"
      ]
     },
     "execution_count": 8,
     "metadata": {},
     "output_type": "execute_result"
    }
   ],
   "source": [
    "\n",
    "def count(tokens, labels):\n",
    "    cnt = Counter()\n",
    "    for i_word, i_label in zip(tokens, labels):\n",
    "        if (i_word, i_label) in cnt:\n",
    "            cnt[(i_word, i_label)] += 1\n",
    "        else:\n",
    "            cnt[(i_word, i_label)] = 1\n",
    "    return cnt\n",
    "\n",
    "cnt = count(tokens, labels)\n",
    "cnt"
   ]
  },
  {
   "cell_type": "code",
   "execution_count": 9,
   "id": "60c63b9b",
   "metadata": {},
   "outputs": [
    {
     "data": {
      "text/html": [
       "<div>\n",
       "<style scoped>\n",
       "    .dataframe tbody tr th:only-of-type {\n",
       "        vertical-align: middle;\n",
       "    }\n",
       "\n",
       "    .dataframe tbody tr th {\n",
       "        vertical-align: top;\n",
       "    }\n",
       "\n",
       "    .dataframe thead th {\n",
       "        text-align: right;\n",
       "    }\n",
       "</style>\n",
       "<table border=\"1\" class=\"dataframe\">\n",
       "  <thead>\n",
       "    <tr style=\"text-align: right;\">\n",
       "      <th></th>\n",
       "      <th>noun</th>\n",
       "      <th>verb</th>\n",
       "    </tr>\n",
       "  </thead>\n",
       "  <tbody>\n",
       "    <tr>\n",
       "      <th>bishesh</th>\n",
       "      <td>0.0</td>\n",
       "      <td>0.0</td>\n",
       "    </tr>\n",
       "    <tr>\n",
       "      <th>jane</th>\n",
       "      <td>0.0</td>\n",
       "      <td>0.0</td>\n",
       "    </tr>\n",
       "    <tr>\n",
       "      <th>saw</th>\n",
       "      <td>0.0</td>\n",
       "      <td>0.0</td>\n",
       "    </tr>\n",
       "  </tbody>\n",
       "</table>\n",
       "</div>"
      ],
      "text/plain": [
       "         noun  verb\n",
       "bishesh   0.0   0.0\n",
       "jane      0.0   0.0\n",
       "saw       0.0   0.0"
      ]
     },
     "execution_count": 9,
     "metadata": {},
     "output_type": "execute_result"
    }
   ],
   "source": [
    "df = pd.DataFrame(np.zeros((len(np.unique(tokens)), len(np.unique(labels)))))\n",
    "df.columns = list(np.unique(labels))\n",
    "df.index = list(np.unique(tokens))\n",
    "df"
   ]
  },
  {
   "cell_type": "code",
   "execution_count": 10,
   "id": "631e02ea",
   "metadata": {},
   "outputs": [
    {
     "data": {
      "text/html": [
       "<div>\n",
       "<style scoped>\n",
       "    .dataframe tbody tr th:only-of-type {\n",
       "        vertical-align: middle;\n",
       "    }\n",
       "\n",
       "    .dataframe tbody tr th {\n",
       "        vertical-align: top;\n",
       "    }\n",
       "\n",
       "    .dataframe thead th {\n",
       "        text-align: right;\n",
       "    }\n",
       "</style>\n",
       "<table border=\"1\" class=\"dataframe\">\n",
       "  <thead>\n",
       "    <tr style=\"text-align: right;\">\n",
       "      <th></th>\n",
       "      <th>noun</th>\n",
       "      <th>verb</th>\n",
       "    </tr>\n",
       "  </thead>\n",
       "  <tbody>\n",
       "    <tr>\n",
       "      <th>bishesh</th>\n",
       "      <td>2.0</td>\n",
       "      <td>0.0</td>\n",
       "    </tr>\n",
       "    <tr>\n",
       "      <th>jane</th>\n",
       "      <td>2.0</td>\n",
       "      <td>0.0</td>\n",
       "    </tr>\n",
       "    <tr>\n",
       "      <th>saw</th>\n",
       "      <td>0.0</td>\n",
       "      <td>2.0</td>\n",
       "    </tr>\n",
       "  </tbody>\n",
       "</table>\n",
       "</div>"
      ],
      "text/plain": [
       "         noun  verb\n",
       "bishesh   2.0   0.0\n",
       "jane      2.0   0.0\n",
       "saw       0.0   2.0"
      ]
     },
     "execution_count": 10,
     "metadata": {},
     "output_type": "execute_result"
    }
   ],
   "source": [
    "#updating the values in out dataframe\n",
    "for i in list(cnt.items()):\n",
    "    #get the corresponding word\n",
    "    word = i[0][0]\n",
    "    #get the corresponding tag\n",
    "    label = i[0][1]\n",
    "    df[label][word] = i[1]\n",
    "df"
   ]
  },
  {
   "cell_type": "markdown",
   "id": "84cf187c",
   "metadata": {},
   "source": [
    "Using Bigrams"
   ]
  },
  {
   "cell_type": "code",
   "execution_count": 11,
   "id": "1c5c1e1a",
   "metadata": {},
   "outputs": [
    {
     "name": "stdout",
     "output_type": "stream",
     "text": [
      "['Bishesh will see Jane.', 'Jane will see Mary.', 'WIll will see Bishesh.']\n",
      "['noun  model verb noun', 'noun model verb noun', 'noun model verb noun']\n"
     ]
    }
   ],
   "source": [
    "text = [\n",
    "    'Bishesh will see Jane.',\n",
    "    'Jane will see Mary.',\n",
    "    'WIll will see Bishesh.'\n",
    "]\n",
    "\n",
    "print(text)\n",
    "labels = [\n",
    "    \"noun  model verb noun\",\n",
    "    \"noun model verb noun\",\n",
    "    \"noun model verb noun\"\n",
    "]\n",
    "print(labels)"
   ]
  },
  {
   "cell_type": "code",
   "execution_count": 12,
   "id": "b04351d9",
   "metadata": {},
   "outputs": [
    {
     "name": "stdout",
     "output_type": "stream",
     "text": [
      "Tokens: \n",
      " ['bishesh', 'will', 'see', 'jane', 'jane', 'will', 'see', 'mary', 'will', 'will', 'see', 'bishesh']\n",
      "labels: \n",
      " ['noun', 'model', 'verb', 'noun', 'noun', 'model', 'verb', 'noun', 'noun', 'model', 'verb', 'noun']\n"
     ]
    }
   ],
   "source": [
    "def preprocess(text_list, labels):\n",
    "    text = \" \".join(text_list)\n",
    "    text = text.lower()\n",
    "    text = re.sub(r\"[^a-zA-Z0-9]\",\" \", text)\n",
    "    tokens = word_tokenize(text)\n",
    "    \n",
    "    labels = \" \".join(labels)\n",
    "    labels = labels.lower()\n",
    "    labels = re.sub(r\"[^a-zA-Z0-9]\",\" \", labels)\n",
    "    label = word_tokenize(labels)\n",
    "    return tokens, label\n",
    "\n",
    "tokens, labels = preprocess(text, labels)\n",
    "print(\"Tokens: \\n\", tokens)\n",
    "print(\"labels: \\n\", labels)\n"
   ]
  },
  {
   "cell_type": "code",
   "execution_count": 13,
   "id": "b8622e2e",
   "metadata": {},
   "outputs": [
    {
     "name": "stdout",
     "output_type": "stream",
     "text": [
      "Tokens Bigram: \n",
      " [('bishesh', 'will'), ('will', 'see'), ('see', 'jane'), ('jane', 'jane'), ('jane', 'will'), ('will', 'see'), ('see', 'mary'), ('mary', 'will'), ('will', 'will'), ('will', 'see'), ('see', 'bishesh')]\n",
      "labels BIgram: \n",
      " [('noun', 'model'), ('model', 'verb'), ('verb', 'noun'), ('noun', 'noun'), ('noun', 'model'), ('model', 'verb'), ('verb', 'noun'), ('noun', 'noun'), ('noun', 'model'), ('model', 'verb'), ('verb', 'noun')]\n"
     ]
    }
   ],
   "source": [
    "\n",
    "def bigram(tokens):\n",
    "    bigram = list(nltk.bigrams(tokens))\n",
    "    return bigram\n",
    "\n",
    "tokens_bigram = bigram(tokens)\n",
    "labels_bigram = bigram(labels)\n",
    "print(\"Tokens Bigram: \\n\", tokens_bigram)\n",
    "print(\"labels BIgram: \\n\", labels_bigram)"
   ]
  },
  {
   "cell_type": "code",
   "execution_count": 14,
   "id": "c0453ccb",
   "metadata": {},
   "outputs": [
    {
     "data": {
      "text/plain": [
       "Counter({(('bishesh', 'will'), ('noun', 'model')): 1,\n",
       "         (('will', 'see'), ('model', 'verb')): 3,\n",
       "         (('see', 'jane'), ('verb', 'noun')): 1,\n",
       "         (('jane', 'jane'), ('noun', 'noun')): 1,\n",
       "         (('jane', 'will'), ('noun', 'model')): 1,\n",
       "         (('see', 'mary'), ('verb', 'noun')): 1,\n",
       "         (('mary', 'will'), ('noun', 'noun')): 1,\n",
       "         (('will', 'will'), ('noun', 'model')): 1,\n",
       "         (('see', 'bishesh'), ('verb', 'noun')): 1})"
      ]
     },
     "execution_count": 14,
     "metadata": {},
     "output_type": "execute_result"
    }
   ],
   "source": [
    "#count the  bigram\n",
    "\n",
    "def bigram_count(tokens, labels):\n",
    "    #initialize the counter\n",
    "    cnt = Counter()\n",
    "    for i_word, i_labels in zip(tokens, labels):\n",
    "        if (i_word, i_labels) in cnt:\n",
    "            cnt[(i_word, i_labels)] += 1\n",
    "        else:\n",
    "            cnt[(i_word, i_labels)] = 1\n",
    "    return cnt\n",
    "\n",
    "bigram_counter = bigram_count(tokens_bigram,labels_bigram)\n",
    "bigram_counter"
   ]
  },
  {
   "cell_type": "code",
   "execution_count": 15,
   "id": "859fa801",
   "metadata": {},
   "outputs": [
    {
     "name": "stdout",
     "output_type": "stream",
     "text": [
      "Word names: \n",
      " ['bishesh-will', 'will-see', 'see-jane', 'jane-jane', 'jane-will', 'see-mary', 'mary-will', 'will-will', 'see-bishesh']\n",
      "Label names: \n",
      " ['noun-model', 'model-verb', 'verb-noun', 'noun-noun', 'noun-model', 'verb-noun', 'noun-noun', 'noun-model', 'verb-noun']\n"
     ]
    }
   ],
   "source": [
    "word_names = [\"-\".join(i[0][0]) for i in list(bigram_counter.items())]\n",
    "print(\"Word names: \\n\", word_names)\n",
    "\n",
    "label_names = [\"-\".join(i[0][1]) for i in list(bigram_counter.items())]\n",
    "print(\"Label names: \\n\", label_names)"
   ]
  },
  {
   "cell_type": "code",
   "execution_count": 16,
   "id": "28c1e453",
   "metadata": {},
   "outputs": [],
   "source": [
    "#updating the values in out dataframe\n",
    "df = pd.DataFrame(np.zeros((len(np.unique(word_names)),len(np.unique(label_names)))))"
   ]
  },
  {
   "cell_type": "code",
   "execution_count": 17,
   "id": "d1e1927f",
   "metadata": {},
   "outputs": [
    {
     "data": {
      "text/html": [
       "<div>\n",
       "<style scoped>\n",
       "    .dataframe tbody tr th:only-of-type {\n",
       "        vertical-align: middle;\n",
       "    }\n",
       "\n",
       "    .dataframe tbody tr th {\n",
       "        vertical-align: top;\n",
       "    }\n",
       "\n",
       "    .dataframe thead th {\n",
       "        text-align: right;\n",
       "    }\n",
       "</style>\n",
       "<table border=\"1\" class=\"dataframe\">\n",
       "  <thead>\n",
       "    <tr style=\"text-align: right;\">\n",
       "      <th></th>\n",
       "      <th>model-verb</th>\n",
       "      <th>noun-model</th>\n",
       "      <th>noun-noun</th>\n",
       "      <th>verb-noun</th>\n",
       "    </tr>\n",
       "  </thead>\n",
       "  <tbody>\n",
       "    <tr>\n",
       "      <th>bishesh-will</th>\n",
       "      <td>0.0</td>\n",
       "      <td>0.0</td>\n",
       "      <td>0.0</td>\n",
       "      <td>0.0</td>\n",
       "    </tr>\n",
       "    <tr>\n",
       "      <th>jane-jane</th>\n",
       "      <td>0.0</td>\n",
       "      <td>0.0</td>\n",
       "      <td>0.0</td>\n",
       "      <td>0.0</td>\n",
       "    </tr>\n",
       "    <tr>\n",
       "      <th>jane-will</th>\n",
       "      <td>0.0</td>\n",
       "      <td>0.0</td>\n",
       "      <td>0.0</td>\n",
       "      <td>0.0</td>\n",
       "    </tr>\n",
       "    <tr>\n",
       "      <th>mary-will</th>\n",
       "      <td>0.0</td>\n",
       "      <td>0.0</td>\n",
       "      <td>0.0</td>\n",
       "      <td>0.0</td>\n",
       "    </tr>\n",
       "    <tr>\n",
       "      <th>see-bishesh</th>\n",
       "      <td>0.0</td>\n",
       "      <td>0.0</td>\n",
       "      <td>0.0</td>\n",
       "      <td>0.0</td>\n",
       "    </tr>\n",
       "    <tr>\n",
       "      <th>see-jane</th>\n",
       "      <td>0.0</td>\n",
       "      <td>0.0</td>\n",
       "      <td>0.0</td>\n",
       "      <td>0.0</td>\n",
       "    </tr>\n",
       "    <tr>\n",
       "      <th>see-mary</th>\n",
       "      <td>0.0</td>\n",
       "      <td>0.0</td>\n",
       "      <td>0.0</td>\n",
       "      <td>0.0</td>\n",
       "    </tr>\n",
       "    <tr>\n",
       "      <th>will-see</th>\n",
       "      <td>0.0</td>\n",
       "      <td>0.0</td>\n",
       "      <td>0.0</td>\n",
       "      <td>0.0</td>\n",
       "    </tr>\n",
       "    <tr>\n",
       "      <th>will-will</th>\n",
       "      <td>0.0</td>\n",
       "      <td>0.0</td>\n",
       "      <td>0.0</td>\n",
       "      <td>0.0</td>\n",
       "    </tr>\n",
       "  </tbody>\n",
       "</table>\n",
       "</div>"
      ],
      "text/plain": [
       "              model-verb  noun-model  noun-noun  verb-noun\n",
       "bishesh-will         0.0         0.0        0.0        0.0\n",
       "jane-jane            0.0         0.0        0.0        0.0\n",
       "jane-will            0.0         0.0        0.0        0.0\n",
       "mary-will            0.0         0.0        0.0        0.0\n",
       "see-bishesh          0.0         0.0        0.0        0.0\n",
       "see-jane             0.0         0.0        0.0        0.0\n",
       "see-mary             0.0         0.0        0.0        0.0\n",
       "will-see             0.0         0.0        0.0        0.0\n",
       "will-will            0.0         0.0        0.0        0.0"
      ]
     },
     "execution_count": 17,
     "metadata": {},
     "output_type": "execute_result"
    }
   ],
   "source": [
    "df.index = np.unique(word_names)\n",
    "df.columns = np.unique(label_names)\n",
    "df"
   ]
  },
  {
   "cell_type": "code",
   "execution_count": 18,
   "id": "f0ff31a0",
   "metadata": {},
   "outputs": [
    {
     "data": {
      "text/html": [
       "<div>\n",
       "<style scoped>\n",
       "    .dataframe tbody tr th:only-of-type {\n",
       "        vertical-align: middle;\n",
       "    }\n",
       "\n",
       "    .dataframe tbody tr th {\n",
       "        vertical-align: top;\n",
       "    }\n",
       "\n",
       "    .dataframe thead th {\n",
       "        text-align: right;\n",
       "    }\n",
       "</style>\n",
       "<table border=\"1\" class=\"dataframe\">\n",
       "  <thead>\n",
       "    <tr style=\"text-align: right;\">\n",
       "      <th></th>\n",
       "      <th>model-verb</th>\n",
       "      <th>noun-model</th>\n",
       "      <th>noun-noun</th>\n",
       "      <th>verb-noun</th>\n",
       "    </tr>\n",
       "  </thead>\n",
       "  <tbody>\n",
       "    <tr>\n",
       "      <th>bishesh-will</th>\n",
       "      <td>0.0</td>\n",
       "      <td>1.0</td>\n",
       "      <td>0.0</td>\n",
       "      <td>0.0</td>\n",
       "    </tr>\n",
       "    <tr>\n",
       "      <th>jane-jane</th>\n",
       "      <td>0.0</td>\n",
       "      <td>0.0</td>\n",
       "      <td>1.0</td>\n",
       "      <td>0.0</td>\n",
       "    </tr>\n",
       "    <tr>\n",
       "      <th>jane-will</th>\n",
       "      <td>0.0</td>\n",
       "      <td>1.0</td>\n",
       "      <td>0.0</td>\n",
       "      <td>0.0</td>\n",
       "    </tr>\n",
       "    <tr>\n",
       "      <th>mary-will</th>\n",
       "      <td>0.0</td>\n",
       "      <td>0.0</td>\n",
       "      <td>1.0</td>\n",
       "      <td>0.0</td>\n",
       "    </tr>\n",
       "    <tr>\n",
       "      <th>see-bishesh</th>\n",
       "      <td>0.0</td>\n",
       "      <td>0.0</td>\n",
       "      <td>0.0</td>\n",
       "      <td>1.0</td>\n",
       "    </tr>\n",
       "    <tr>\n",
       "      <th>see-jane</th>\n",
       "      <td>0.0</td>\n",
       "      <td>0.0</td>\n",
       "      <td>0.0</td>\n",
       "      <td>1.0</td>\n",
       "    </tr>\n",
       "    <tr>\n",
       "      <th>see-mary</th>\n",
       "      <td>0.0</td>\n",
       "      <td>0.0</td>\n",
       "      <td>0.0</td>\n",
       "      <td>1.0</td>\n",
       "    </tr>\n",
       "    <tr>\n",
       "      <th>will-see</th>\n",
       "      <td>3.0</td>\n",
       "      <td>0.0</td>\n",
       "      <td>0.0</td>\n",
       "      <td>0.0</td>\n",
       "    </tr>\n",
       "    <tr>\n",
       "      <th>will-will</th>\n",
       "      <td>0.0</td>\n",
       "      <td>1.0</td>\n",
       "      <td>0.0</td>\n",
       "      <td>0.0</td>\n",
       "    </tr>\n",
       "  </tbody>\n",
       "</table>\n",
       "</div>"
      ],
      "text/plain": [
       "              model-verb  noun-model  noun-noun  verb-noun\n",
       "bishesh-will         0.0         1.0        0.0        0.0\n",
       "jane-jane            0.0         0.0        1.0        0.0\n",
       "jane-will            0.0         1.0        0.0        0.0\n",
       "mary-will            0.0         0.0        1.0        0.0\n",
       "see-bishesh          0.0         0.0        0.0        1.0\n",
       "see-jane             0.0         0.0        0.0        1.0\n",
       "see-mary             0.0         0.0        0.0        1.0\n",
       "will-see             3.0         0.0        0.0        0.0\n",
       "will-will            0.0         1.0        0.0        0.0"
      ]
     },
     "execution_count": 18,
     "metadata": {},
     "output_type": "execute_result"
    }
   ],
   "source": [
    "for i in zip(bigram_counter.items()):\n",
    "    word = \"-\".join(i[0][0][0])\n",
    "    label = \"-\".join(i[0][0][1])\n",
    "    #update\n",
    "    df[label][word] = i[0][1]\n",
    "df"
   ]
  },
  {
   "cell_type": "code",
   "execution_count": null,
   "id": "8cbf7487",
   "metadata": {},
   "outputs": [],
   "source": []
  }
 ],
 "metadata": {
  "kernelspec": {
   "display_name": "Python 3 (ipykernel)",
   "language": "python",
   "name": "python3"
  },
  "language_info": {
   "codemirror_mode": {
    "name": "ipython",
    "version": 3
   },
   "file_extension": ".py",
   "mimetype": "text/x-python",
   "name": "python",
   "nbconvert_exporter": "python",
   "pygments_lexer": "ipython3",
   "version": "3.9.13"
  }
 },
 "nbformat": 4,
 "nbformat_minor": 5
}
